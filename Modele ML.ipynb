{
 "cells": [
  {
   "cell_type": "code",
   "execution_count": 38,
   "id": "a6ab1ad5-43c4-47ea-b4e5-5bd8c8ccc386",
   "metadata": {},
   "outputs": [],
   "source": [
    "import numpy as np\n",
    "import pandas as pd\n",
    "import matplotlib.pyplot as plt\n",
    "import seaborn as sns\n",
    "import datetime\n",
    "from scipy import stats\n",
    "from scipy.stats import skew, mode\n",
    "from scipy.optimize import minimize\n",
    "from sklearn.preprocessing import StandardScaler\n",
    "from sklearn.linear_model import LogisticRegression\n",
    "from sklearn.model_selection import train_test_split, cross_val_score, GridSearchCV\n",
    "from sklearn.metrics import accuracy_score, confusion_matrix\n",
    "from sklearn import svm\n",
    "from sklearn.neighbors import KNeighborsClassifier\n",
    "from sklearn.tree import DecisionTreeClassifier\n",
    "from sklearn.ensemble import RandomForestClassifier, ExtraTreesClassifier, GradientBoostingClassifier, VotingClassifier\n",
    "from sklearn.naive_bayes import GaussianNB\n",
    "import statsmodels\n",
    "import xgboost as xgb\n",
    "import itertools\n",
    "from sklearn.ensemble import AdaBoostClassifier\n",
    "from sklearn.tree import DecisionTreeClassifier\n",
    "from sklearn.model_selection import train_test_split\n",
    "from sklearn.metrics import confusion_matrix\n",
    "import statsmodels.formula.api as smf\n",
    "from sklearn import metrics"
   ]
  },
  {
   "cell_type": "code",
   "execution_count": 53,
   "id": "dc67f938-becd-4d48-93bb-149f51527cc3",
   "metadata": {},
   "outputs": [
    {
     "data": {
      "text/plain": [
       "array(['Negative', 'Negative', 'Positive', ..., 'Positive', 'Positive',\n",
       "       'Negative'], dtype=object)"
      ]
     },
     "execution_count": 53,
     "metadata": {},
     "output_type": "execute_result"
    }
   ],
   "source": [
    "dataset = pd.read_csv('Medie_zi_close.csv')\n",
    "# X = sentimentul, Y = randamentul\n",
    "X = dataset.iloc[:, 4:5].values\n",
    "y = dataset.iloc[:, 2].values\n",
    "y"
   ]
  },
  {
   "cell_type": "code",
   "execution_count": 40,
   "id": "e6db9926-a978-4485-bdfe-5f62c7a948a2",
   "metadata": {},
   "outputs": [
    {
     "name": "stdout",
     "output_type": "stream",
     "text": [
      "The train dataset has 1551 observations\n",
      "The train dataset has 665 observations\n"
     ]
    }
   ],
   "source": [
    "X_train, X_test, Y_train, Y_test = train_test_split(X, y, test_size=0.3, random_state=3)\n",
    "print(f'The train dataset has {X_train.shape[0]} observations')\n",
    "print(f'The train dataset has {X_test.shape[0]} observations')"
   ]
  },
  {
   "cell_type": "code",
   "execution_count": 41,
   "id": "8bf7ed5c-9933-454c-a04c-fb19793d8af8",
   "metadata": {},
   "outputs": [
    {
     "data": {
      "text/plain": [
       "2216"
      ]
     },
     "execution_count": 41,
     "metadata": {},
     "output_type": "execute_result"
    }
   ],
   "source": [
    "# instantiate the model (using the default parameters)\n",
    "logreg = LogisticRegression()\n",
    "# fit the model with data\n",
    "logreg.fit(X, y)\n",
    "# predict the response values for the observations in X\n",
    "logreg.predict(X)\n",
    "# store the predicted response values\n",
    "y_pred = logreg.predict(X)\n",
    "\n",
    "# check how many predictions were generated\n",
    "len(y_pred)"
   ]
  },
  {
   "cell_type": "code",
   "execution_count": 42,
   "id": "747dd309-bc5f-4d45-a789-b7defda80e42",
   "metadata": {},
   "outputs": [
    {
     "name": "stdout",
     "output_type": "stream",
     "text": [
      "0.5627256317689531\n"
     ]
    }
   ],
   "source": [
    "# compute classification accuracy for the logistic regression model\n",
    "from sklearn import metrics\n",
    "\n",
    "print(metrics.accuracy_score(y, y_pred))"
   ]
  },
  {
   "cell_type": "code",
   "execution_count": 43,
   "id": "a8810ce1-dfe7-4eb4-bddf-872d82077784",
   "metadata": {},
   "outputs": [
    {
     "name": "stdout",
     "output_type": "stream",
     "text": [
      "0.5729323308270676\n"
     ]
    }
   ],
   "source": [
    "# STEP 3: make predictions on the testing set\n",
    "y_pred = logreg.predict(X_test)\n",
    "\n",
    "# compare actual response values (y_test) with predicted response values (y_pred)\n",
    "print(metrics.accuracy_score(y_test, y_pred))"
   ]
  },
  {
   "cell_type": "code",
   "execution_count": 44,
   "id": "29ae1e61-075f-4b82-ab2b-657dced6d3af",
   "metadata": {},
   "outputs": [],
   "source": [
    "##### Modeling #####\n",
    "# Create a cross validation function\n",
    "def get_best_model(estimator, params_grid = {}):\n",
    "    model = GridSearchCV(estimator = estimator, param_grid = params_grid, cv = 3, scoring = \"accuracy\", n_jobs = -1)\n",
    "    model.fit(X_train, Y_train)\n",
    "    print('\\n--- Best Parameters -----------------------------')\n",
    "    print(model.best_params_)\n",
    "    print('\\n--- Best Model -----------------------------')\n",
    "    best_model = model.best_estimator_\n",
    "    print(best_model)\n",
    "    return best_model\n",
    "\n",
    "\n",
    "# The confusion matrix plotting function is from the sklearn documentation below: http://scikit-learn.org/stable/auto_examples/model_selection/plot_confusion_matrix.html\n",
    "def plot_confusion_matrix(conf_matrix, classes, title, normalize = False, cmap = plt.cm.Purples):\n",
    "    \"\"\"\n",
    "    This function prints and plots the confusion matrix.\n",
    "    Normalization can be applied by setting `normalize=True`.\n",
    "    \"\"\"\n",
    "    plt.imshow(conf_matrix, interpolation = 'nearest', cmap =  cmap)\n",
    "    plt.title(title)\n",
    "    plt.colorbar()\n",
    "    tick_marks = np.arange(len(classes))\n",
    "    plt.xticks(tick_marks, classes, rotation = 45)\n",
    "    plt.yticks(tick_marks, classes)\n",
    "\n",
    "    if normalize:\n",
    "        conf_matrix = conf_matrix.astype('float') / conf_matrix.sum(axis = 1)[:, np.newaxis]\n",
    "\n",
    "    thresh = conf_matrix.max() / 2.\n",
    "    for i, j in itertools.product(range(conf_matrix.shape[0]), range(conf_matrix.shape[1])):\n",
    "        plt.text(j, i, conf_matrix[i, j],\n",
    "                 horizontalalignment=\"center\",\n",
    "                 color=\"black\" if conf_matrix[i, j] > thresh else \"black\")\n",
    "\n",
    "    plt.tight_layout()\n",
    "    plt.ylabel('True label')\n",
    "    plt.xlabel('Predicted label')\n",
    "\n",
    "class_names = ['Succes', 'Eșec']\n",
    "\n",
    "\n",
    "# Create a model fitting function\n",
    "def model_fit(model, feature_imp, cv = 5):\n",
    "    # model fit\n",
    "    clf = model.fit(X_train, Y_train)\n",
    "\n",
    "    # model prediction\n",
    "    y_pred = clf.predict(X_test)\n",
    "\n",
    "    # model report\n",
    "    conf_matrix = confusion_matrix(Y_test, y_pred)\n",
    "    plot_confusion_matrix(conf_matrix, classes = class_names, title = 'Confusion matrix')\n",
    "\n",
    "\n",
    "    print('\\n--- Train Set -----------------------------')\n",
    "    print('Accuracy: %.5f +/- %.4f' % (np.mean(cross_val_score(clf, X_train, Y_train, cv = cv)), np.std(cross_val_score(clf, X_train, Y_train, cv = cv))))\n",
    "    print('AUC: %.5f +/- %.4f' % (np.mean(cross_val_score(clf, X_train, Y_train, cv = cv, scoring = 'roc_auc')), np.std(cross_val_score(clf, X_train, Y_train, cv = cv, scoring = 'roc_auc'))))\n",
    "    print('\\n--- Validation Set -----------------------------')\n",
    "    print('Accuracy: %.5f +/- %.4f' % (np.mean(cross_val_score(clf, X_test, Y_test, cv = cv)), np.std(cross_val_score(clf, X_test, Y_test, cv = cv))))\n",
    "    print('AUC: %.5f +/- %.4f' % (np.mean(cross_val_score(clf, X_test, Y_test, cv = cv, scoring = 'roc_auc')), np.std(cross_val_score(clf, X_test, Y_test, cv = cv, scoring = 'roc_auc'))))\n",
    "    print('-----------------------------------------------')\n",
    "\n"
   ]
  },
  {
   "cell_type": "code",
   "execution_count": 45,
   "id": "a4eeed63-28b2-428a-9600-5addadb3f02d",
   "metadata": {},
   "outputs": [
    {
     "name": "stdout",
     "output_type": "stream",
     "text": [
      "\n",
      "--- Best Parameters -----------------------------\n",
      "{'n_neighbors': 7, 'p': 1, 'weights': 'uniform'}\n",
      "\n",
      "--- Best Model -----------------------------\n",
      "KNeighborsClassifier(n_neighbors=7, p=1)\n",
      "\n",
      "--- Train Set -----------------------------\n",
      "Accuracy: 0.50871 +/- 0.0174\n",
      "AUC: 0.50341 +/- 0.0173\n",
      "\n",
      "--- Validation Set -----------------------------\n",
      "Accuracy: 0.55188 +/- 0.0280\n",
      "AUC: 0.57249 +/- 0.0375\n",
      "-----------------------------------------------\n"
     ]
    },
    {
     "data": {
      "image/png": "[encoded data removed]",
      "text/plain": [
       "<Figure size 432x288 with 2 Axes>"
      ]
     },
     "metadata": {
      "needs_background": "light"
     },
     "output_type": "display_data"
    }
   ],
   "source": [
    "## k-Nearest Neighbors (KNN) \n",
    "knn = KNeighborsClassifier()\n",
    "parameters = {'n_neighbors': [5, 6, 7],\n",
    "               'p': [1, 2],\n",
    "               'weights': ['uniform', 'distance']}\n",
    "clf_knn = get_best_model(knn, parameters)\n",
    "model_fit(model = clf_knn, feature_imp = False)\n",
    "y_pred = clf_knn.predict(X_test)\n",
    "plt.show()"
   ]
  },
  {
   "cell_type": "code",
   "execution_count": 46,
   "id": "a2a20e68-0bce-42fa-86f9-c77d6f5c7f12",
   "metadata": {},
   "outputs": [
    {
     "name": "stdout",
     "output_type": "stream",
     "text": [
      "\n",
      "--- Train Set -----------------------------\n",
      "Accuracy: 0.55383 +/- 0.0065\n",
      "AUC: 0.53579 +/- 0.0234\n",
      "\n",
      "--- Validation Set -----------------------------\n",
      "Accuracy: 0.56992 +/- 0.0283\n",
      "AUC: 0.58323 +/- 0.0603\n",
      "-----------------------------------------------\n"
     ]
    },
    {
     "data": {
      "image/png": "[encoded data removed]",
      "text/plain": [
       "<Figure size 432x288 with 2 Axes>"
      ]
     },
     "metadata": {
      "needs_background": "light"
     },
     "output_type": "display_data"
    }
   ],
   "source": [
    "# Naive Bayes Classifier\n",
    "clf_nb = GaussianNB()\n",
    "model_fit(model = clf_nb, feature_imp = False)\n",
    "y_pred = clf_nb.predict(X_test)\n",
    "plt.show()"
   ]
  },
  {
   "cell_type": "code",
   "execution_count": 47,
   "id": "50259b88-76a4-4215-90c9-f4b2aae8dda0",
   "metadata": {},
   "outputs": [
    {
     "name": "stdout",
     "output_type": "stream",
     "text": [
      "\n",
      "--- Best Parameters -----------------------------\n",
      "{'C': 0.8}\n",
      "\n",
      "--- Best Model -----------------------------\n",
      "LogisticRegression(C=0.8, max_iter=2400, random_state=3)\n",
      "\n",
      "--- Train Set -----------------------------\n",
      "Accuracy: 0.55835 +/- 0.0006\n",
      "AUC: 0.53582 +/- 0.0234\n",
      "\n",
      "--- Validation Set -----------------------------\n",
      "Accuracy: 0.57293 +/- 0.0030\n",
      "AUC: 0.58323 +/- 0.0603\n",
      "-----------------------------------------------\n"
     ]
    },
    {
     "data": {
      "image/png": "[encoded data removed]",
      "text/plain": [
       "<Figure size 432x288 with 2 Axes>"
      ]
     },
     "metadata": {
      "needs_background": "light"
     },
     "output_type": "display_data"
    }
   ],
   "source": [
    "lg = LogisticRegression(random_state = 3, max_iter = 2400)\n",
    "parameters = {'C': [0.8, 0.9, 1]}\n",
    "clf_lg = get_best_model(lg, parameters)\n",
    "model_fit(model = clf_lg, feature_imp = True)\n",
    "y_pred = clf_lg.predict(X_test)\n",
    "plt.show()"
   ]
  },
  {
   "cell_type": "code",
   "execution_count": 48,
   "id": "b84823ee-9346-40c6-b785-cad5f0ef8f7b",
   "metadata": {},
   "outputs": [
    {
     "name": "stdout",
     "output_type": "stream",
     "text": [
      "\n",
      "--- Best Parameters -----------------------------\n",
      "{'max_depth': 10, 'min_samples_split': 3, 'n_estimators': 100}\n",
      "\n",
      "--- Best Model -----------------------------\n",
      "RandomForestClassifier(max_depth=10, min_samples_split=3, random_state=3)\n",
      "\n",
      "--- Train Set -----------------------------\n",
      "Accuracy: 0.52741 +/- 0.0196\n",
      "AUC: 0.49990 +/- 0.0372\n",
      "\n",
      "--- Validation Set -----------------------------\n",
      "Accuracy: 0.59098 +/- 0.0325\n",
      "AUC: 0.59563 +/- 0.0473\n",
      "-----------------------------------------------\n"
     ]
    },
    {
     "data": {
      "image/png": "[encoded data removed]",
      "text/plain": [
       "<Figure size 432x288 with 2 Axes>"
      ]
     },
     "metadata": {
      "needs_background": "light"
     },
     "output_type": "display_data"
    }
   ],
   "source": [
    "rf = RandomForestClassifier(random_state = 3)\n",
    "parameters = {'n_estimators': [100],\n",
    "              'max_depth': [10],\n",
    "              'min_samples_split': [3]}\n",
    "clf_rf= get_best_model(rf, parameters)\n",
    "model_fit(model = clf_rf, feature_imp = True)"
   ]
  },
  {
   "cell_type": "code",
   "execution_count": 49,
   "id": "0d49bc9f-1ad1-420d-9251-9b5bb25ca751",
   "metadata": {},
   "outputs": [
    {
     "name": "stdout",
     "output_type": "stream",
     "text": [
      "\n",
      "--- Best Parameters -----------------------------\n",
      "{'C': 0.5, 'gamma': 0.0001}\n",
      "\n",
      "--- Best Model -----------------------------\n",
      "SVC(C=0.5, gamma=0.0001, probability=True, random_state=3)\n",
      "\n",
      "--- Train Set -----------------------------\n",
      "Accuracy: 0.55835 +/- 0.0006\n",
      "AUC: 0.53582 +/- 0.0234\n",
      "\n",
      "--- Validation Set -----------------------------\n",
      "Accuracy: 0.57293 +/- 0.0030\n",
      "AUC: 0.58323 +/- 0.0603\n",
      "-----------------------------------------------\n"
     ]
    },
    {
     "data": {
      "image/png": "[encoded data removed]",
      "text/plain": [
       "<Figure size 432x288 with 2 Axes>"
      ]
     },
     "metadata": {
      "needs_background": "light"
     },
     "output_type": "display_data"
    }
   ],
   "source": [
    "svc = svm.SVC(kernel = 'rbf', probability = True, random_state = 3)\n",
    "parameters = {'gamma': [0.0001, 0.001, 0.005, 0.1, 1, 3, 5],\n",
    "              'C': [0.5, 1, 5, 0.1, 100, 1000]}\n",
    "clf_svc = get_best_model(svc, parameters)\n",
    "model_fit(model = clf_svc, feature_imp = False)\n",
    "y_pred = clf_svc.predict(X_test)\n",
    "plt.show()"
   ]
  },
  {
   "cell_type": "code",
   "execution_count": 50,
   "id": "3993b085-d25c-4aa9-bbb9-0886e6dac440",
   "metadata": {},
   "outputs": [
    {
     "name": "stdout",
     "output_type": "stream",
     "text": [
      "\n",
      "--- Best Parameters -----------------------------\n",
      "{}\n",
      "\n",
      "--- Best Model -----------------------------\n",
      "AdaBoostClassifier(base_estimator=DecisionTreeClassifier(max_depth=1),\n",
      "                   n_estimators=200)\n",
      "\n",
      "--- Train Set -----------------------------\n",
      "Accuracy: 0.54095 +/- 0.0132\n",
      "AUC: 0.49116 +/- 0.0367\n",
      "\n",
      "--- Validation Set -----------------------------\n",
      "Accuracy: 0.57594 +/- 0.0221\n",
      "AUC: 0.58445 +/- 0.0290\n",
      "-----------------------------------------------\n"
     ]
    },
    {
     "data": {
      "image/png": "[encoded data removed]",
      "text/plain": [
       "<Figure size 432x288 with 2 Axes>"
      ]
     },
     "metadata": {
      "needs_background": "light"
     },
     "output_type": "display_data"
    }
   ],
   "source": [
    "## Adaptative Boosting (adaboost) ##\n",
    "ada = AdaBoostClassifier(DecisionTreeClassifier(max_depth=1), n_estimators=200)\n",
    "clf_ada = get_best_model(ada)\n",
    "model_fit(model = clf_ada, feature_imp = True)\n",
    "y_pred = clf_ada.predict(X_test)\n",
    "plt.show()"
   ]
  },
  {
   "cell_type": "code",
   "execution_count": 51,
   "id": "1be0e5c5-d348-42d1-b39e-d651c4cf3f37",
   "metadata": {},
   "outputs": [
    {
     "name": "stdout",
     "output_type": "stream",
     "text": [
      "K-Nearest Neighbors        0.551880\n",
      "Naive Bayes                0.569925\n",
      "Logistic Regression        0.572932\n",
      "Support Vector Machines    0.572932\n",
      "AdaBoost                   0.575940\n",
      "Random Forest              0.590977\n",
      "dtype: float64\n"
     ]
    }
   ],
   "source": [
    "# ##### Model Evaluation #####\n",
    "# # Compare model performance\n",
    "classifiers = [clf_knn, clf_nb, clf_lg, clf_rf, clf_svc,clf_ada]\n",
    "index = ['K-Nearest Neighbors', 'Naive Bayes', 'Logistic Regression', 'Random Forest', 'Support Vector Machines', 'AdaBoost']\n",
    "scores = []\n",
    "for clf in classifiers:\n",
    "    score = np.mean(cross_val_score(clf, X_test, Y_test, cv = 5, scoring = 'accuracy'))\n",
    "    scores = np.append(scores, score)\n",
    "models = pd.Series(scores, index = index)\n",
    "models.sort_values(ascending = True, inplace = True)\n",
    "print(models)"
   ]
  }
 ],
 "metadata": {
  "kernelspec": {
   "display_name": "Python 3",
   "language": "python",
   "name": "python3"
  },
  "language_info": {
   "codemirror_mode": {
    "name": "ipython",
    "version": 3
   },
   "file_extension": ".py",
   "mimetype": "text/x-python",
   "name": "python",
   "nbconvert_exporter": "python",
   "pygments_lexer": "ipython3",
   "version": "3.8.6"
  }
 },
 "nbformat": 4,
 "nbformat_minor": 5
}
